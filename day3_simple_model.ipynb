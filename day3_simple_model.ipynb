{
  "nbformat": 4,
  "nbformat_minor": 0,
  "metadata": {
    "colab": {
      "name": "day3_simple_model.ipynb",
      "provenance": [],
      "collapsed_sections": []
    },
    "kernelspec": {
      "name": "python3",
      "display_name": "Python 3"
    }
  },
  "cells": [
    {
      "cell_type": "code",
      "metadata": {
        "id": "A8oqg1ThObne",
        "colab_type": "code",
        "outputId": "b5a05185-84ec-44ca-d896-d72bf732f538",
        "colab": {
          "base_uri": "https://localhost:8080/",
          "height": 121
        }
      },
      "source": [
        "from google.colab import drive\n",
        "drive.mount('/content/drive')"
      ],
      "execution_count": 0,
      "outputs": [
        {
          "output_type": "stream",
          "text": [
            "Go to this URL in a browser: https://accounts.google.com/o/oauth2/auth?client_id=947318989803-6bn6qk8qdgf4n4g3pfee6491hc0brc4i.apps.googleusercontent.com&redirect_uri=urn%3aietf%3awg%3aoauth%3a2.0%3aoob&response_type=code&scope=email%20https%3a%2f%2fwww.googleapis.com%2fauth%2fdocs.test%20https%3a%2f%2fwww.googleapis.com%2fauth%2fdrive%20https%3a%2f%2fwww.googleapis.com%2fauth%2fdrive.photos.readonly%20https%3a%2f%2fwww.googleapis.com%2fauth%2fpeopleapi.readonly\n",
            "\n",
            "Enter your authorization code:\n",
            "··········\n",
            "Mounted at /content/drive\n"
          ],
          "name": "stdout"
        }
      ]
    },
    {
      "cell_type": "code",
      "metadata": {
        "id": "OwGDwBycJnW2",
        "colab_type": "code",
        "outputId": "8cf62fde-fd15-4150-9e06-4dd00a75e25a",
        "colab": {
          "base_uri": "https://localhost:8080/",
          "height": 457
        }
      },
      "source": [
        "!pip install --upgrade tables\n",
        "!pip install eli5"
      ],
      "execution_count": 0,
      "outputs": [
        {
          "output_type": "stream",
          "text": [
            "Collecting tables\n",
            "\u001b[?25l  Downloading https://files.pythonhosted.org/packages/ed/c3/8fd9e3bb21872f9d69eb93b3014c86479864cca94e625fd03713ccacec80/tables-3.6.1-cp36-cp36m-manylinux1_x86_64.whl (4.3MB)\n",
            "\u001b[K     |████████████████████████████████| 4.3MB 2.8MB/s \n",
            "\u001b[?25hRequirement already satisfied, skipping upgrade: numexpr>=2.6.2 in /usr/local/lib/python3.6/dist-packages (from tables) (2.7.1)\n",
            "Requirement already satisfied, skipping upgrade: numpy>=1.9.3 in /usr/local/lib/python3.6/dist-packages (from tables) (1.17.5)\n",
            "Installing collected packages: tables\n",
            "  Found existing installation: tables 3.4.4\n",
            "    Uninstalling tables-3.4.4:\n",
            "      Successfully uninstalled tables-3.4.4\n",
            "Successfully installed tables-3.6.1\n",
            "Collecting eli5\n",
            "\u001b[?25l  Downloading https://files.pythonhosted.org/packages/97/2f/c85c7d8f8548e460829971785347e14e45fa5c6617da374711dec8cb38cc/eli5-0.10.1-py2.py3-none-any.whl (105kB)\n",
            "\u001b[K     |████████████████████████████████| 112kB 2.8MB/s \n",
            "\u001b[?25hRequirement already satisfied: attrs>16.0.0 in /usr/local/lib/python3.6/dist-packages (from eli5) (19.3.0)\n",
            "Requirement already satisfied: numpy>=1.9.0 in /usr/local/lib/python3.6/dist-packages (from eli5) (1.17.5)\n",
            "Requirement already satisfied: scipy in /usr/local/lib/python3.6/dist-packages (from eli5) (1.4.1)\n",
            "Requirement already satisfied: graphviz in /usr/local/lib/python3.6/dist-packages (from eli5) (0.10.1)\n",
            "Requirement already satisfied: jinja2 in /usr/local/lib/python3.6/dist-packages (from eli5) (2.11.1)\n",
            "Requirement already satisfied: scikit-learn>=0.18 in /usr/local/lib/python3.6/dist-packages (from eli5) (0.22.1)\n",
            "Requirement already satisfied: six in /usr/local/lib/python3.6/dist-packages (from eli5) (1.12.0)\n",
            "Requirement already satisfied: tabulate>=0.7.7 in /usr/local/lib/python3.6/dist-packages (from eli5) (0.8.6)\n",
            "Requirement already satisfied: MarkupSafe>=0.23 in /usr/local/lib/python3.6/dist-packages (from jinja2->eli5) (1.1.1)\n",
            "Requirement already satisfied: joblib>=0.11 in /usr/local/lib/python3.6/dist-packages (from scikit-learn>=0.18->eli5) (0.14.1)\n",
            "Installing collected packages: eli5\n",
            "Successfully installed eli5-0.10.1\n"
          ],
          "name": "stdout"
        }
      ]
    },
    {
      "cell_type": "code",
      "metadata": {
        "id": "-qUUx6a4HlML",
        "colab_type": "code",
        "outputId": "a1a64213-1800-4fa1-d29b-4d6dd6f47865",
        "colab": {
          "base_uri": "https://localhost:8080/",
          "height": 183
        }
      },
      "source": [
        "import pandas as pd\n",
        "import numpy as np\n",
        "\n",
        "from sklearn.dummy import DummyRegressor\n",
        "from sklearn.tree import DecisionTreeRegressor\n",
        "\n",
        "from sklearn.metrics import mean_absolute_error as mae \n",
        "from sklearn.model_selection import cross_val_score\n",
        "\n",
        "import eli5\n",
        "from eli5.sklearn import PermutationImportance"
      ],
      "execution_count": 0,
      "outputs": [
        {
          "output_type": "stream",
          "text": [
            "/usr/local/lib/python3.6/dist-packages/sklearn/utils/deprecation.py:144: FutureWarning: The sklearn.metrics.scorer module is  deprecated in version 0.22 and will be removed in version 0.24. The corresponding classes / functions should instead be imported from sklearn.metrics. Anything that cannot be imported from sklearn.metrics is now part of the private API.\n",
            "  warnings.warn(message, FutureWarning)\n",
            "/usr/local/lib/python3.6/dist-packages/sklearn/utils/deprecation.py:144: FutureWarning: The sklearn.feature_selection.base module is  deprecated in version 0.22 and will be removed in version 0.24. The corresponding classes / functions should instead be imported from sklearn.feature_selection. Anything that cannot be imported from sklearn.feature_selection is now part of the private API.\n",
            "  warnings.warn(message, FutureWarning)\n",
            "Using TensorFlow backend.\n"
          ],
          "name": "stderr"
        },
        {
          "output_type": "display_data",
          "data": {
            "text/html": [
              "<p style=\"color: red;\">\n",
              "The default version of TensorFlow in Colab will soon switch to TensorFlow 2.x.<br>\n",
              "We recommend you <a href=\"https://www.tensorflow.org/guide/migrate\" target=\"_blank\">upgrade</a> now \n",
              "or ensure your notebook will continue to use TensorFlow 1.x via the <code>%tensorflow_version 1.x</code> magic:\n",
              "<a href=\"https://colab.research.google.com/notebooks/tensorflow_version.ipynb\" target=\"_blank\">more info</a>.</p>\n"
            ],
            "text/plain": [
              "<IPython.core.display.HTML object>"
            ]
          },
          "metadata": {
            "tags": []
          }
        }
      ]
    },
    {
      "cell_type": "code",
      "metadata": {
        "id": "HeRw1nUQLx3g",
        "colab_type": "code",
        "outputId": "7995b28e-5017-49fc-a00a-f4663375c41f",
        "colab": {
          "base_uri": "https://localhost:8080/",
          "height": 34
        }
      },
      "source": [
        "cd \"/content/drive/My Drive/Colab Notebooks/dw_matrix/matrix_two/\""
      ],
      "execution_count": 0,
      "outputs": [
        {
          "output_type": "stream",
          "text": [
            "/content/drive/My Drive/Colab Notebooks/dw_matrix/matrix_two\n"
          ],
          "name": "stdout"
        }
      ]
    },
    {
      "cell_type": "code",
      "metadata": {
        "id": "XY9RatLEO1HM",
        "colab_type": "code",
        "outputId": "3d8e0de1-071a-4357-fd9a-5be8f28fe5d6",
        "colab": {
          "base_uri": "https://localhost:8080/",
          "height": 34
        }
      },
      "source": [
        "cd dw_matrix/"
      ],
      "execution_count": 0,
      "outputs": [
        {
          "output_type": "stream",
          "text": [
            "/content/drive/My Drive/Colab Notebooks/dw_matrix/matrix_two/dw_matrix\n"
          ],
          "name": "stdout"
        }
      ]
    },
    {
      "cell_type": "markdown",
      "metadata": {
        "id": "tVpopAnqLG6y",
        "colab_type": "text"
      },
      "source": [
        "#Wczytywanie danych"
      ]
    },
    {
      "cell_type": "code",
      "metadata": {
        "id": "6YPqUMapLOi2",
        "colab_type": "code",
        "outputId": "b607bc27-4cbb-4847-aa0b-20e9c14f87a9",
        "colab": {
          "base_uri": "https://localhost:8080/",
          "height": 34
        }
      },
      "source": [
        "df = pd.read_hdf('data/car.h5')\n",
        "df.shape"
      ],
      "execution_count": 0,
      "outputs": [
        {
          "output_type": "execute_result",
          "data": {
            "text/plain": [
              "(106494, 155)"
            ]
          },
          "metadata": {
            "tags": []
          },
          "execution_count": 6
        }
      ]
    },
    {
      "cell_type": "code",
      "metadata": {
        "id": "CXYZLoaWfx_5",
        "colab_type": "code",
        "outputId": "99630b54-ecea-497b-f6b4-f149b28507f8",
        "colab": {
          "base_uri": "https://localhost:8080/",
          "height": 185
        }
      },
      "source": [
        "df.columns"
      ],
      "execution_count": 0,
      "outputs": [
        {
          "output_type": "execute_result",
          "data": {
            "text/plain": [
              "Index(['breadcrumb', 'created_at', 'price_currency', 'price_details',\n",
              "       'price_value', 'seller_address', 'seller_name', 'seller_type',\n",
              "       'feature_czujniki-parkowania-przednie',\n",
              "       'feature_poduszka-powietrzna-chroniąca-kolana',\n",
              "       ...\n",
              "       'param_pearl', 'param_stan', 'param_wersja', 'param_emisja-co2',\n",
              "       'param_body-type', 'param_matowy', 'param_bezwypadkowy',\n",
              "       'param_akryl-(niemetalizowany)', 'param_monthly-payment-value',\n",
              "       'car_id'],\n",
              "      dtype='object', length=155)"
            ]
          },
          "metadata": {
            "tags": []
          },
          "execution_count": 7
        }
      ]
    },
    {
      "cell_type": "markdown",
      "metadata": {
        "id": "-F4mZu3egNEI",
        "colab_type": "text"
      },
      "source": [
        "#Dummy Model\n"
      ]
    },
    {
      "cell_type": "code",
      "metadata": {
        "id": "S_FnizCGgR1b",
        "colab_type": "code",
        "outputId": "91dfb348-55e7-4b91-8c1c-82eda0f1e6af",
        "colab": {
          "base_uri": "https://localhost:8080/",
          "height": 34
        }
      },
      "source": [
        "df.select_dtypes(np.number).columns"
      ],
      "execution_count": 0,
      "outputs": [
        {
          "output_type": "execute_result",
          "data": {
            "text/plain": [
              "Index(['price_value', 'car_id'], dtype='object')"
            ]
          },
          "metadata": {
            "tags": []
          },
          "execution_count": 8
        }
      ]
    },
    {
      "cell_type": "code",
      "metadata": {
        "id": "TZ6zmwFbgp_Q",
        "colab_type": "code",
        "outputId": "c5ac9d04-36f3-45a5-feb1-c1b0adc7ed5b",
        "colab": {
          "base_uri": "https://localhost:8080/",
          "height": 34
        }
      },
      "source": [
        "feats = ['car_id']\n",
        "x = df [feats].values\n",
        "y = df['price_value'].values\n",
        "\n",
        "model =  DummyRegressor()\n",
        "model.fit(x,y)\n",
        "y_pred = model.predict(x)\n",
        "\n",
        "mae(y, y_pred)"
      ],
      "execution_count": 0,
      "outputs": [
        {
          "output_type": "execute_result",
          "data": {
            "text/plain": [
              "39465.934630440985"
            ]
          },
          "metadata": {
            "tags": []
          },
          "execution_count": 9
        }
      ]
    },
    {
      "cell_type": "code",
      "metadata": {
        "id": "HA0qdvvpwN31",
        "colab_type": "code",
        "outputId": "38c609ca-092d-4c30-bb9e-3f1efaaf3616",
        "colab": {
          "base_uri": "https://localhost:8080/",
          "height": 34
        }
      },
      "source": [
        "[x for x in df.columns if'price' in x]"
      ],
      "execution_count": 0,
      "outputs": [
        {
          "output_type": "execute_result",
          "data": {
            "text/plain": [
              "['price_currency', 'price_details', 'price_value']"
            ]
          },
          "metadata": {
            "tags": []
          },
          "execution_count": 10
        }
      ]
    },
    {
      "cell_type": "code",
      "metadata": {
        "id": "8RnTy6GDy6HE",
        "colab_type": "code",
        "outputId": "82a02239-cc7d-484c-b5a0-a81767892cb3",
        "colab": {
          "base_uri": "https://localhost:8080/",
          "height": 67
        }
      },
      "source": [
        "df['price_currency'].value_counts()"
      ],
      "execution_count": 0,
      "outputs": [
        {
          "output_type": "execute_result",
          "data": {
            "text/plain": [
              "PLN    106290\n",
              "EUR       204\n",
              "Name: price_currency, dtype: int64"
            ]
          },
          "metadata": {
            "tags": []
          },
          "execution_count": 11
        }
      ]
    },
    {
      "cell_type": "code",
      "metadata": {
        "id": "C4FFXLMIzR5F",
        "colab_type": "code",
        "outputId": "f56f4e04-7a02-4add-ec68-a07a93a89c8d",
        "colab": {
          "base_uri": "https://localhost:8080/",
          "height": 34
        }
      },
      "source": [
        "df = df[ df[ 'price_currency'] !='EUR']\n",
        "df.shape"
      ],
      "execution_count": 0,
      "outputs": [
        {
          "output_type": "execute_result",
          "data": {
            "text/plain": [
              "(106290, 155)"
            ]
          },
          "metadata": {
            "tags": []
          },
          "execution_count": 12
        }
      ]
    },
    {
      "cell_type": "markdown",
      "metadata": {
        "id": "QVccaph6z0Cz",
        "colab_type": "text"
      },
      "source": [
        "##Features\n"
      ]
    },
    {
      "cell_type": "code",
      "metadata": {
        "id": "zmYSqaNoz7Du",
        "colab_type": "code",
        "colab": {}
      },
      "source": [
        "df.head()"
      ],
      "execution_count": 0,
      "outputs": []
    },
    {
      "cell_type": "code",
      "metadata": {
        "id": "RcUBPsUM0MqY",
        "colab_type": "code",
        "outputId": "8ecbcaca-be8d-4d67-ac18-22e069b44437",
        "colab": {
          "base_uri": "https://localhost:8080/",
          "height": 1000
        }
      },
      "source": [
        "for feat in df.columns:\n",
        "  print(feat)"
      ],
      "execution_count": 0,
      "outputs": [
        {
          "output_type": "stream",
          "text": [
            "breadcrumb\n",
            "created_at\n",
            "price_currency\n",
            "price_details\n",
            "price_value\n",
            "seller_address\n",
            "seller_name\n",
            "seller_type\n",
            "feature_czujniki-parkowania-przednie\n",
            "feature_poduszka-powietrzna-chroniąca-kolana\n",
            "feature_kurtyny-powietrzne\n",
            "feature_klimatyzacja-dwustrefowa\n",
            "feature_światła-led\n",
            "feature_czujnik-zmierzchu\n",
            "feature_elektrycznie-ustawiane-lusterka\n",
            "feature_asr-(kontrola-trakcji)\n",
            "feature_poduszka-powietrzna-kierowcy\n",
            "feature_cd\n",
            "feature_elektryczne-szyby-przednie\n",
            "feature_poduszka-powietrzna-pasażera\n",
            "feature_system-start-stop\n",
            "feature_światła-do-jazdy-dziennej\n",
            "feature_komputer-pokładowy\n",
            "feature_elektryczne-szyby-tylne\n",
            "feature_klimatyzacja-manualna\n",
            "feature_tapicerka-welurowa\n",
            "feature_czujnik-deszczu\n",
            "feature_światła-przeciwmgielne\n",
            "feature_ogrzewanie-postojowe\n",
            "feature_radio-niefabryczne\n",
            "feature_regulowane-zawieszenie\n",
            "feature_ogranicznik-prędkości\n",
            "feature_zmieniarka-cd\n",
            "feature_szyberdach\n",
            "feature_isofix\n",
            "feature_asystent-pasa-ruchu\n",
            "feature_alufelgi\n",
            "feature_bluetooth\n",
            "feature_nawigacja-gps\n",
            "feature_asystent-parkowania\n",
            "feature_wspomaganie-kierownicy\n",
            "feature_podgrzewana-przednia-szyba\n",
            "feature_przyciemniane-szyby\n",
            "feature_elektrycznie-ustawiane-fotele\n",
            "feature_klimatyzacja-czterostrefowa\n",
            "feature_tuner-tv\n",
            "feature_poduszki-boczne-przednie\n",
            "feature_tempomat-aktywny\n",
            "feature_klimatyzacja-automatyczna\n",
            "feature_poduszki-boczne-tylne\n",
            "feature_radio-fabryczne\n",
            "feature_odtwarzacz-dvd\n",
            "feature_czujniki-parkowania-tylne\n",
            "feature_łopatki-zmiany-biegów\n",
            "feature_centralny-zamek\n",
            "feature_dach-panoramiczny\n",
            "feature_kamera-cofania\n",
            "feature_immobilizer\n",
            "feature_czujnik-martwego-pola\n",
            "feature_gniazdo-sd\n",
            "feature_podgrzewane-lusterka-boczne\n",
            "feature_podgrzewane-przednie-siedzenia\n",
            "feature_hak\n",
            "feature_abs\n",
            "feature_wielofunkcyjna-kierownica\n",
            "feature_światła-xenonowe\n",
            "feature_gniazdo-usb\n",
            "feature_tapicerka-skórzana\n",
            "feature_gniazdo-aux\n",
            "feature_esp-(stabilizacja-toru-jazdy)\n",
            "feature_alarm\n",
            "feature_podgrzewane-tylne-siedzenia\n",
            "feature_mp3\n",
            "feature_tempomat\n",
            "feature_hud-(wyświetlacz-przezierny)\n",
            "feature_elektrochromatyczne-lusterko-wsteczne\n",
            "feature_relingi-dachowe\n",
            "feature_elektrochromatyczne-lusterka-boczne\n",
            "param_liczba-miejsc\n",
            "param_uszkodzony\n",
            "param_marka-pojazdu\n",
            "param_model\n",
            "param_engine-code\n",
            "param_liczba-drzwi\n",
            "param_first-registration\n",
            "param_country-of-origin\n",
            "param_pierwsza-rejestracja\n",
            "param_gearbox\n",
            "param_przebieg\n",
            "param_faktura-vat\n",
            "param_rok-produkcji\n",
            "param_vin\n",
            "param_perłowy\n",
            "param_homologacja-ciężarowa\n",
            "param_service-record\n",
            "param_metallic\n",
            "param_leasing-concession\n",
            "param_color\n",
            "param_financing-option\n",
            "param_original-owner\n",
            "param_vat-marża\n",
            "param_kategoria\n",
            "param_co2-emissions\n",
            "param_leasing\n",
            "param_mileage\n",
            "param_zarejestrowany-jako-zabytek\n",
            "param_napęd\n",
            "param_wartość-wykupu\n",
            "param_typ\n",
            "param_metalik\n",
            "param_pierwszy-właściciel\n",
            "param_skrzynia-biegów\n",
            "param_vat-discount\n",
            "param_no-accident\n",
            "param_liczba-pozostałych-rat\n",
            "param_particle-filter\n",
            "param_zarejestrowany-w-polsce\n",
            "param_oferta-od\n",
            "param_moc\n",
            "param_make\n",
            "param_kraj-pochodzenia\n",
            "param_engine-power\n",
            "param_year\n",
            "param_serwisowany-w-aso\n",
            "param_rodzaj-paliwa\n",
            "param_możliwość-finansowania\n",
            "param_registered-in-poland\n",
            "param_transmission\n",
            "param_miesięczna-rata\n",
            "param_kod-silnika\n",
            "param_version\n",
            "param_opłata-początkowa\n",
            "param_model-pojazdu\n",
            "param_pojemność-skokowa\n",
            "param_kierownica-po-prawej-(anglik)\n",
            "param_fuel-type\n",
            "param_vat-free\n",
            "param_acrylic\n",
            "param_damaged\n",
            "param_door-count\n",
            "param_tuning\n",
            "param_filtr-cząstek-stałych\n",
            "param_nr-of-seats\n",
            "param_kolor\n",
            "param_engine-capacity\n",
            "param_pearl\n",
            "param_stan\n",
            "param_wersja\n",
            "param_emisja-co2\n",
            "param_body-type\n",
            "param_matowy\n",
            "param_bezwypadkowy\n",
            "param_akryl-(niemetalizowany)\n",
            "param_monthly-payment-value\n",
            "car_id\n"
          ],
          "name": "stdout"
        }
      ]
    },
    {
      "cell_type": "code",
      "metadata": {
        "id": "7Cjkmm2y0kf9",
        "colab_type": "code",
        "outputId": "c2c99d8b-0aae-4dad-ba85-0622abf16040",
        "colab": {
          "base_uri": "https://localhost:8080/",
          "height": 101
        }
      },
      "source": [
        "df['param_kolor'].factorize()"
      ],
      "execution_count": 0,
      "outputs": [
        {
          "output_type": "execute_result",
          "data": {
            "text/plain": [
              "(array([0, 1, 1, ..., 1, 3, 2]),\n",
              " Index(['Inny kolor', 'Czarny', 'Srebrny', 'Niebieski', 'Biały', 'Zielony',\n",
              "        'Brązowy', 'Szary', 'Czerwony', 'Złoty', 'Bordowy', 'Beżowy', 'Żółty',\n",
              "        'Fioletowy'],\n",
              "       dtype='object'))"
            ]
          },
          "metadata": {
            "tags": []
          },
          "execution_count": 15
        }
      ]
    },
    {
      "cell_type": "code",
      "metadata": {
        "id": "F9PgwSd20_2_",
        "colab_type": "code",
        "outputId": "4f2d83d2-f747-4ad1-edfc-6bb2d30527c5",
        "colab": {
          "base_uri": "https://localhost:8080/",
          "height": 34
        }
      },
      "source": [
        "df['param_kolor'].factorize()[0]"
      ],
      "execution_count": 0,
      "outputs": [
        {
          "output_type": "execute_result",
          "data": {
            "text/plain": [
              "array([0, 1, 1, ..., 1, 3, 2])"
            ]
          },
          "metadata": {
            "tags": []
          },
          "execution_count": 16
        }
      ]
    },
    {
      "cell_type": "code",
      "metadata": {
        "id": "eVZObIFb11Nl",
        "colab_type": "code",
        "colab": {}
      },
      "source": [
        "SUFFIX_CAT = '_cat'\n",
        "for feat in df.columns:\n",
        "  if isinstance (df[feat][0], list):continue\n",
        "\n",
        "  factorized_values = df[feat].factorize()[0]               \n",
        "  if'SUFFIX_CAT' in feat:\n",
        "    df[feat] = factorized_values\n",
        "  else: \n",
        "    df[feat + SUFFIX_CAT] = factorized_values\n",
        "     \n",
        "  \n",
        "\n",
        "  \n",
        " "
      ],
      "execution_count": 0,
      "outputs": []
    },
    {
      "cell_type": "code",
      "metadata": {
        "id": "6NsoRUds5rRf",
        "colab_type": "code",
        "outputId": "c1a930e2-31e6-42da-ece0-6ae4863b2760",
        "colab": {
          "base_uri": "https://localhost:8080/",
          "height": 1000
        }
      },
      "source": [
        "cat_feats = [x for x in df.columns if SUFFIX_CAT in x  ]\n",
        "cat_feats "
      ],
      "execution_count": 0,
      "outputs": [
        {
          "output_type": "execute_result",
          "data": {
            "text/plain": [
              "['created_at_cat',\n",
              " 'price_currency_cat',\n",
              " 'price_details_cat',\n",
              " 'price_value_cat',\n",
              " 'seller_address_cat',\n",
              " 'seller_name_cat',\n",
              " 'seller_type_cat',\n",
              " 'feature_czujniki-parkowania-przednie_cat',\n",
              " 'feature_poduszka-powietrzna-chroniąca-kolana_cat',\n",
              " 'feature_kurtyny-powietrzne_cat',\n",
              " 'feature_klimatyzacja-dwustrefowa_cat',\n",
              " 'feature_światła-led_cat',\n",
              " 'feature_czujnik-zmierzchu_cat',\n",
              " 'feature_elektrycznie-ustawiane-lusterka_cat',\n",
              " 'feature_asr-(kontrola-trakcji)_cat',\n",
              " 'feature_poduszka-powietrzna-kierowcy_cat',\n",
              " 'feature_cd_cat',\n",
              " 'feature_elektryczne-szyby-przednie_cat',\n",
              " 'feature_poduszka-powietrzna-pasażera_cat',\n",
              " 'feature_system-start-stop_cat',\n",
              " 'feature_światła-do-jazdy-dziennej_cat',\n",
              " 'feature_komputer-pokładowy_cat',\n",
              " 'feature_elektryczne-szyby-tylne_cat',\n",
              " 'feature_klimatyzacja-manualna_cat',\n",
              " 'feature_tapicerka-welurowa_cat',\n",
              " 'feature_czujnik-deszczu_cat',\n",
              " 'feature_światła-przeciwmgielne_cat',\n",
              " 'feature_ogrzewanie-postojowe_cat',\n",
              " 'feature_radio-niefabryczne_cat',\n",
              " 'feature_regulowane-zawieszenie_cat',\n",
              " 'feature_ogranicznik-prędkości_cat',\n",
              " 'feature_zmieniarka-cd_cat',\n",
              " 'feature_szyberdach_cat',\n",
              " 'feature_isofix_cat',\n",
              " 'feature_asystent-pasa-ruchu_cat',\n",
              " 'feature_alufelgi_cat',\n",
              " 'feature_bluetooth_cat',\n",
              " 'feature_nawigacja-gps_cat',\n",
              " 'feature_asystent-parkowania_cat',\n",
              " 'feature_wspomaganie-kierownicy_cat',\n",
              " 'feature_podgrzewana-przednia-szyba_cat',\n",
              " 'feature_przyciemniane-szyby_cat',\n",
              " 'feature_elektrycznie-ustawiane-fotele_cat',\n",
              " 'feature_klimatyzacja-czterostrefowa_cat',\n",
              " 'feature_tuner-tv_cat',\n",
              " 'feature_poduszki-boczne-przednie_cat',\n",
              " 'feature_tempomat-aktywny_cat',\n",
              " 'feature_klimatyzacja-automatyczna_cat',\n",
              " 'feature_poduszki-boczne-tylne_cat',\n",
              " 'feature_radio-fabryczne_cat',\n",
              " 'feature_odtwarzacz-dvd_cat',\n",
              " 'feature_czujniki-parkowania-tylne_cat',\n",
              " 'feature_łopatki-zmiany-biegów_cat',\n",
              " 'feature_centralny-zamek_cat',\n",
              " 'feature_dach-panoramiczny_cat',\n",
              " 'feature_kamera-cofania_cat',\n",
              " 'feature_immobilizer_cat',\n",
              " 'feature_czujnik-martwego-pola_cat',\n",
              " 'feature_gniazdo-sd_cat',\n",
              " 'feature_podgrzewane-lusterka-boczne_cat',\n",
              " 'feature_podgrzewane-przednie-siedzenia_cat',\n",
              " 'feature_hak_cat',\n",
              " 'feature_abs_cat',\n",
              " 'feature_wielofunkcyjna-kierownica_cat',\n",
              " 'feature_światła-xenonowe_cat',\n",
              " 'feature_gniazdo-usb_cat',\n",
              " 'feature_tapicerka-skórzana_cat',\n",
              " 'feature_gniazdo-aux_cat',\n",
              " 'feature_esp-(stabilizacja-toru-jazdy)_cat',\n",
              " 'feature_alarm_cat',\n",
              " 'feature_podgrzewane-tylne-siedzenia_cat',\n",
              " 'feature_mp3_cat',\n",
              " 'feature_tempomat_cat',\n",
              " 'feature_hud-(wyświetlacz-przezierny)_cat',\n",
              " 'feature_elektrochromatyczne-lusterko-wsteczne_cat',\n",
              " 'feature_relingi-dachowe_cat',\n",
              " 'feature_elektrochromatyczne-lusterka-boczne_cat',\n",
              " 'param_liczba-miejsc_cat',\n",
              " 'param_uszkodzony_cat',\n",
              " 'param_marka-pojazdu_cat',\n",
              " 'param_model_cat',\n",
              " 'param_engine-code_cat',\n",
              " 'param_liczba-drzwi_cat',\n",
              " 'param_first-registration_cat',\n",
              " 'param_country-of-origin_cat',\n",
              " 'param_pierwsza-rejestracja_cat',\n",
              " 'param_gearbox_cat',\n",
              " 'param_przebieg_cat',\n",
              " 'param_faktura-vat_cat',\n",
              " 'param_rok-produkcji_cat',\n",
              " 'param_vin_cat',\n",
              " 'param_perłowy_cat',\n",
              " 'param_homologacja-ciężarowa_cat',\n",
              " 'param_service-record_cat',\n",
              " 'param_metallic_cat',\n",
              " 'param_leasing-concession_cat',\n",
              " 'param_color_cat',\n",
              " 'param_financing-option_cat',\n",
              " 'param_original-owner_cat',\n",
              " 'param_vat-marża_cat',\n",
              " 'param_kategoria_cat',\n",
              " 'param_co2-emissions_cat',\n",
              " 'param_leasing_cat',\n",
              " 'param_mileage_cat',\n",
              " 'param_zarejestrowany-jako-zabytek_cat',\n",
              " 'param_napęd_cat',\n",
              " 'param_wartość-wykupu_cat',\n",
              " 'param_typ_cat',\n",
              " 'param_metalik_cat',\n",
              " 'param_pierwszy-właściciel_cat',\n",
              " 'param_skrzynia-biegów_cat',\n",
              " 'param_vat-discount_cat',\n",
              " 'param_no-accident_cat',\n",
              " 'param_liczba-pozostałych-rat_cat',\n",
              " 'param_particle-filter_cat',\n",
              " 'param_zarejestrowany-w-polsce_cat',\n",
              " 'param_oferta-od_cat',\n",
              " 'param_moc_cat',\n",
              " 'param_make_cat',\n",
              " 'param_kraj-pochodzenia_cat',\n",
              " 'param_engine-power_cat',\n",
              " 'param_year_cat',\n",
              " 'param_serwisowany-w-aso_cat',\n",
              " 'param_rodzaj-paliwa_cat',\n",
              " 'param_możliwość-finansowania_cat',\n",
              " 'param_registered-in-poland_cat',\n",
              " 'param_transmission_cat',\n",
              " 'param_miesięczna-rata_cat',\n",
              " 'param_kod-silnika_cat',\n",
              " 'param_version_cat',\n",
              " 'param_opłata-początkowa_cat',\n",
              " 'param_model-pojazdu_cat',\n",
              " 'param_pojemność-skokowa_cat',\n",
              " 'param_kierownica-po-prawej-(anglik)_cat',\n",
              " 'param_fuel-type_cat',\n",
              " 'param_vat-free_cat',\n",
              " 'param_acrylic_cat',\n",
              " 'param_damaged_cat',\n",
              " 'param_door-count_cat',\n",
              " 'param_tuning_cat',\n",
              " 'param_filtr-cząstek-stałych_cat',\n",
              " 'param_nr-of-seats_cat',\n",
              " 'param_kolor_cat',\n",
              " 'param_engine-capacity_cat',\n",
              " 'param_pearl_cat',\n",
              " 'param_stan_cat',\n",
              " 'param_wersja_cat',\n",
              " 'param_emisja-co2_cat',\n",
              " 'param_body-type_cat',\n",
              " 'param_matowy_cat',\n",
              " 'param_bezwypadkowy_cat',\n",
              " 'param_akryl-(niemetalizowany)_cat',\n",
              " 'param_monthly-payment-value_cat',\n",
              " 'car_id_cat']"
            ]
          },
          "metadata": {
            "tags": []
          },
          "execution_count": 18
        }
      ]
    },
    {
      "cell_type": "code",
      "metadata": {
        "id": "-6aOJxZ96XMN",
        "colab_type": "code",
        "outputId": "92fc0eb3-2c20-46ec-a1bc-8d627196e776",
        "colab": {
          "base_uri": "https://localhost:8080/",
          "height": 34
        }
      },
      "source": [
        "cat_feats = [x for x in df.columns if SUFFIX_CAT in x  ]\n",
        "len(cat_feats)"
      ],
      "execution_count": 0,
      "outputs": [
        {
          "output_type": "execute_result",
          "data": {
            "text/plain": [
              "154"
            ]
          },
          "metadata": {
            "tags": []
          },
          "execution_count": 19
        }
      ]
    },
    {
      "cell_type": "code",
      "metadata": {
        "id": "nXs-3TmD6mYO",
        "colab_type": "code",
        "outputId": "1b286ba0-b8c1-435c-950f-c2144e1ba131",
        "colab": {
          "base_uri": "https://localhost:8080/",
          "height": 34
        }
      },
      "source": [
        "cat_feats = [x for x in df.columns if SUFFIX_CAT in x  ]\n",
        "cat_feats = [x for x in cat_feats if 'price' not in x]\n",
        "len(cat_feats)"
      ],
      "execution_count": 0,
      "outputs": [
        {
          "output_type": "execute_result",
          "data": {
            "text/plain": [
              "151"
            ]
          },
          "metadata": {
            "tags": []
          },
          "execution_count": 20
        }
      ]
    },
    {
      "cell_type": "code",
      "metadata": {
        "id": "1_3NvakQ7SLo",
        "colab_type": "code",
        "outputId": "a4ea6c5d-75b3-4526-ba6a-2cdd52a6b2e3",
        "colab": {
          "base_uri": "https://localhost:8080/",
          "height": 34
        }
      },
      "source": [
        "x = df[cat_feats].values\n",
        "y = df['price_value'].values\n",
        "\n",
        "model =  DecisionTreeRegressor(max_depth=5)\n",
        "scores = cross_val_score(model, x, y, cv=3, scoring= 'neg_mean_absolute_error')\n",
        "np.mean(scores)"
      ],
      "execution_count": 0,
      "outputs": [
        {
          "output_type": "execute_result",
          "data": {
            "text/plain": [
              "-19566.588937368328"
            ]
          },
          "metadata": {
            "tags": []
          },
          "execution_count": 21
        }
      ]
    },
    {
      "cell_type": "code",
      "metadata": {
        "id": "qi06z2Kr9Lqa",
        "colab_type": "code",
        "outputId": "1246036f-5326-4d9d-806e-75767d693544",
        "colab": {
          "base_uri": "https://localhost:8080/",
          "height": 386
        }
      },
      "source": [
        "m =  DecisionTreeRegressor(max_depth=5)\n",
        "m.fit(x, y)\n",
        "\n",
        "imp = PermutationImportance(m, random_state=0).fit(x, y)\n",
        "eli5.show_weights(imp, feature_names=cat_feats)"
      ],
      "execution_count": 0,
      "outputs": [
        {
          "output_type": "execute_result",
          "data": {
            "text/html": [
              "\n",
              "    <style>\n",
              "    table.eli5-weights tr:hover {\n",
              "        filter: brightness(85%);\n",
              "    }\n",
              "</style>\n",
              "\n",
              "\n",
              "\n",
              "    \n",
              "\n",
              "    \n",
              "\n",
              "    \n",
              "\n",
              "    \n",
              "\n",
              "    \n",
              "\n",
              "    \n",
              "\n",
              "\n",
              "    \n",
              "\n",
              "    \n",
              "\n",
              "    \n",
              "\n",
              "    \n",
              "\n",
              "    \n",
              "\n",
              "    \n",
              "\n",
              "\n",
              "    \n",
              "\n",
              "    \n",
              "\n",
              "    \n",
              "\n",
              "    \n",
              "\n",
              "    \n",
              "        <table class=\"eli5-weights eli5-feature-importances\" style=\"border-collapse: collapse; border: none; margin-top: 0em; table-layout: auto;\">\n",
              "    <thead>\n",
              "    <tr style=\"border: none;\">\n",
              "        <th style=\"padding: 0 1em 0 0.5em; text-align: right; border: none;\">Weight</th>\n",
              "        <th style=\"padding: 0 0.5em 0 0.5em; text-align: left; border: none;\">Feature</th>\n",
              "    </tr>\n",
              "    </thead>\n",
              "    <tbody>\n",
              "    \n",
              "        <tr style=\"background-color: hsl(120, 100.00%, 80.00%); border: none;\">\n",
              "            <td style=\"padding: 0 1em 0 0.5em; text-align: right; border: none;\">\n",
              "                0.2533\n",
              "                \n",
              "                    &plusmn; 0.0040\n",
              "                \n",
              "            </td>\n",
              "            <td style=\"padding: 0 0.5em 0 0.5em; text-align: left; border: none;\">\n",
              "                param_napęd_cat\n",
              "            </td>\n",
              "        </tr>\n",
              "    \n",
              "        <tr style=\"background-color: hsl(120, 100.00%, 83.00%); border: none;\">\n",
              "            <td style=\"padding: 0 1em 0 0.5em; text-align: right; border: none;\">\n",
              "                0.2008\n",
              "                \n",
              "                    &plusmn; 0.0047\n",
              "                \n",
              "            </td>\n",
              "            <td style=\"padding: 0 0.5em 0 0.5em; text-align: left; border: none;\">\n",
              "                param_faktura-vat_cat\n",
              "            </td>\n",
              "        </tr>\n",
              "    \n",
              "        <tr style=\"background-color: hsl(120, 100.00%, 83.39%); border: none;\">\n",
              "            <td style=\"padding: 0 1em 0 0.5em; text-align: right; border: none;\">\n",
              "                0.1943\n",
              "                \n",
              "                    &plusmn; 0.0088\n",
              "                \n",
              "            </td>\n",
              "            <td style=\"padding: 0 0.5em 0 0.5em; text-align: left; border: none;\">\n",
              "                param_stan_cat\n",
              "            </td>\n",
              "        </tr>\n",
              "    \n",
              "        <tr style=\"background-color: hsl(120, 100.00%, 86.64%); border: none;\">\n",
              "            <td style=\"padding: 0 1em 0 0.5em; text-align: right; border: none;\">\n",
              "                0.1423\n",
              "                \n",
              "                    &plusmn; 0.0086\n",
              "                \n",
              "            </td>\n",
              "            <td style=\"padding: 0 0.5em 0 0.5em; text-align: left; border: none;\">\n",
              "                param_rok-produkcji_cat\n",
              "            </td>\n",
              "        </tr>\n",
              "    \n",
              "        <tr style=\"background-color: hsl(120, 100.00%, 92.46%); border: none;\">\n",
              "            <td style=\"padding: 0 1em 0 0.5em; text-align: right; border: none;\">\n",
              "                0.0629\n",
              "                \n",
              "                    &plusmn; 0.0047\n",
              "                \n",
              "            </td>\n",
              "            <td style=\"padding: 0 0.5em 0 0.5em; text-align: left; border: none;\">\n",
              "                param_moc_cat\n",
              "            </td>\n",
              "        </tr>\n",
              "    \n",
              "        <tr style=\"background-color: hsl(120, 100.00%, 94.27%); border: none;\">\n",
              "            <td style=\"padding: 0 1em 0 0.5em; text-align: right; border: none;\">\n",
              "                0.0424\n",
              "                \n",
              "                    &plusmn; 0.0014\n",
              "                \n",
              "            </td>\n",
              "            <td style=\"padding: 0 0.5em 0 0.5em; text-align: left; border: none;\">\n",
              "                feature_kamera-cofania_cat\n",
              "            </td>\n",
              "        </tr>\n",
              "    \n",
              "        <tr style=\"background-color: hsl(120, 100.00%, 94.39%); border: none;\">\n",
              "            <td style=\"padding: 0 1em 0 0.5em; text-align: right; border: none;\">\n",
              "                0.0412\n",
              "                \n",
              "                    &plusmn; 0.0008\n",
              "                \n",
              "            </td>\n",
              "            <td style=\"padding: 0 0.5em 0 0.5em; text-align: left; border: none;\">\n",
              "                param_skrzynia-biegów_cat\n",
              "            </td>\n",
              "        </tr>\n",
              "    \n",
              "        <tr style=\"background-color: hsl(120, 100.00%, 95.66%); border: none;\">\n",
              "            <td style=\"padding: 0 1em 0 0.5em; text-align: right; border: none;\">\n",
              "                0.0286\n",
              "                \n",
              "                    &plusmn; 0.0037\n",
              "                \n",
              "            </td>\n",
              "            <td style=\"padding: 0 0.5em 0 0.5em; text-align: left; border: none;\">\n",
              "                param_marka-pojazdu_cat\n",
              "            </td>\n",
              "        </tr>\n",
              "    \n",
              "        <tr style=\"background-color: hsl(120, 100.00%, 96.72%); border: none;\">\n",
              "            <td style=\"padding: 0 1em 0 0.5em; text-align: right; border: none;\">\n",
              "                0.0191\n",
              "                \n",
              "                    &plusmn; 0.0022\n",
              "                \n",
              "            </td>\n",
              "            <td style=\"padding: 0 0.5em 0 0.5em; text-align: left; border: none;\">\n",
              "                param_pojemność-skokowa_cat\n",
              "            </td>\n",
              "        </tr>\n",
              "    \n",
              "        <tr style=\"background-color: hsl(120, 100.00%, 97.07%); border: none;\">\n",
              "            <td style=\"padding: 0 1em 0 0.5em; text-align: right; border: none;\">\n",
              "                0.0163\n",
              "                \n",
              "                    &plusmn; 0.0005\n",
              "                \n",
              "            </td>\n",
              "            <td style=\"padding: 0 0.5em 0 0.5em; text-align: left; border: none;\">\n",
              "                feature_bluetooth_cat\n",
              "            </td>\n",
              "        </tr>\n",
              "    \n",
              "        <tr style=\"background-color: hsl(120, 100.00%, 97.68%); border: none;\">\n",
              "            <td style=\"padding: 0 1em 0 0.5em; text-align: right; border: none;\">\n",
              "                0.0117\n",
              "                \n",
              "                    &plusmn; 0.0007\n",
              "                \n",
              "            </td>\n",
              "            <td style=\"padding: 0 0.5em 0 0.5em; text-align: left; border: none;\">\n",
              "                feature_łopatki-zmiany-biegów_cat\n",
              "            </td>\n",
              "        </tr>\n",
              "    \n",
              "        <tr style=\"background-color: hsl(120, 100.00%, 97.76%); border: none;\">\n",
              "            <td style=\"padding: 0 1em 0 0.5em; text-align: right; border: none;\">\n",
              "                0.0111\n",
              "                \n",
              "                    &plusmn; 0.0004\n",
              "                \n",
              "            </td>\n",
              "            <td style=\"padding: 0 0.5em 0 0.5em; text-align: left; border: none;\">\n",
              "                feature_światła-led_cat\n",
              "            </td>\n",
              "        </tr>\n",
              "    \n",
              "        <tr style=\"background-color: hsl(120, 100.00%, 99.18%); border: none;\">\n",
              "            <td style=\"padding: 0 1em 0 0.5em; text-align: right; border: none;\">\n",
              "                0.0026\n",
              "                \n",
              "                    &plusmn; 0.0002\n",
              "                \n",
              "            </td>\n",
              "            <td style=\"padding: 0 0.5em 0 0.5em; text-align: left; border: none;\">\n",
              "                feature_klimatyzacja-manualna_cat\n",
              "            </td>\n",
              "        </tr>\n",
              "    \n",
              "        <tr style=\"background-color: hsl(120, 100.00%, 99.27%); border: none;\">\n",
              "            <td style=\"padding: 0 1em 0 0.5em; text-align: right; border: none;\">\n",
              "                0.0022\n",
              "                \n",
              "                    &plusmn; 0.0002\n",
              "                \n",
              "            </td>\n",
              "            <td style=\"padding: 0 0.5em 0 0.5em; text-align: left; border: none;\">\n",
              "                param_kod-silnika_cat\n",
              "            </td>\n",
              "        </tr>\n",
              "    \n",
              "        <tr style=\"background-color: hsl(0, 100.00%, 100.00%); border: none;\">\n",
              "            <td style=\"padding: 0 1em 0 0.5em; text-align: right; border: none;\">\n",
              "                0\n",
              "                \n",
              "                    &plusmn; 0.0000\n",
              "                \n",
              "            </td>\n",
              "            <td style=\"padding: 0 0.5em 0 0.5em; text-align: left; border: none;\">\n",
              "                feature_gniazdo-aux_cat\n",
              "            </td>\n",
              "        </tr>\n",
              "    \n",
              "        <tr style=\"background-color: hsl(0, 100.00%, 100.00%); border: none;\">\n",
              "            <td style=\"padding: 0 1em 0 0.5em; text-align: right; border: none;\">\n",
              "                0\n",
              "                \n",
              "                    &plusmn; 0.0000\n",
              "                \n",
              "            </td>\n",
              "            <td style=\"padding: 0 0.5em 0 0.5em; text-align: left; border: none;\">\n",
              "                feature_klimatyzacja-automatyczna_cat\n",
              "            </td>\n",
              "        </tr>\n",
              "    \n",
              "        <tr style=\"background-color: hsl(0, 100.00%, 100.00%); border: none;\">\n",
              "            <td style=\"padding: 0 1em 0 0.5em; text-align: right; border: none;\">\n",
              "                0\n",
              "                \n",
              "                    &plusmn; 0.0000\n",
              "                \n",
              "            </td>\n",
              "            <td style=\"padding: 0 0.5em 0 0.5em; text-align: left; border: none;\">\n",
              "                feature_radio-fabryczne_cat\n",
              "            </td>\n",
              "        </tr>\n",
              "    \n",
              "        <tr style=\"background-color: hsl(0, 100.00%, 100.00%); border: none;\">\n",
              "            <td style=\"padding: 0 1em 0 0.5em; text-align: right; border: none;\">\n",
              "                0\n",
              "                \n",
              "                    &plusmn; 0.0000\n",
              "                \n",
              "            </td>\n",
              "            <td style=\"padding: 0 0.5em 0 0.5em; text-align: left; border: none;\">\n",
              "                feature_czujniki-parkowania-tylne_cat\n",
              "            </td>\n",
              "        </tr>\n",
              "    \n",
              "        <tr style=\"background-color: hsl(0, 100.00%, 100.00%); border: none;\">\n",
              "            <td style=\"padding: 0 1em 0 0.5em; text-align: right; border: none;\">\n",
              "                0\n",
              "                \n",
              "                    &plusmn; 0.0000\n",
              "                \n",
              "            </td>\n",
              "            <td style=\"padding: 0 0.5em 0 0.5em; text-align: left; border: none;\">\n",
              "                feature_poduszki-boczne-tylne_cat\n",
              "            </td>\n",
              "        </tr>\n",
              "    \n",
              "        <tr style=\"background-color: hsl(0, 100.00%, 100.00%); border: none;\">\n",
              "            <td style=\"padding: 0 1em 0 0.5em; text-align: right; border: none;\">\n",
              "                0\n",
              "                \n",
              "                    &plusmn; 0.0000\n",
              "                \n",
              "            </td>\n",
              "            <td style=\"padding: 0 0.5em 0 0.5em; text-align: left; border: none;\">\n",
              "                feature_odtwarzacz-dvd_cat\n",
              "            </td>\n",
              "        </tr>\n",
              "    \n",
              "    \n",
              "        \n",
              "            <tr style=\"background-color: hsl(0, 100.00%, 100.00%); border: none;\">\n",
              "                <td colspan=\"2\" style=\"padding: 0 0.5em 0 0.5em; text-align: center; border: none; white-space: nowrap;\">\n",
              "                    <i>&hellip; 131 more &hellip;</i>\n",
              "                </td>\n",
              "            </tr>\n",
              "        \n",
              "    \n",
              "    </tbody>\n",
              "</table>\n",
              "    \n",
              "\n",
              "    \n",
              "\n",
              "\n",
              "    \n",
              "\n",
              "    \n",
              "\n",
              "    \n",
              "\n",
              "    \n",
              "\n",
              "    \n",
              "\n",
              "    \n",
              "\n",
              "\n",
              "\n"
            ],
            "text/plain": [
              "<IPython.core.display.HTML object>"
            ]
          },
          "metadata": {
            "tags": []
          },
          "execution_count": 22
        }
      ]
    },
    {
      "cell_type": "code",
      "metadata": {
        "id": "4S_clL9d_QKY",
        "colab_type": "code",
        "colab": {}
      },
      "source": [
        ""
      ],
      "execution_count": 0,
      "outputs": []
    }
  ]
}